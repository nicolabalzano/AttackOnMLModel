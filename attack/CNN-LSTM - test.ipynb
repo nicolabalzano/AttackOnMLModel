{
 "cells": [
  {
   "cell_type": "code",
   "execution_count": 2,
   "id": "55773d26-3afc-4f16-9d36-6cde02768665",
   "metadata": {
    "editable": true,
    "slideshow": {
     "slide_type": ""
    },
    "tags": []
   },
   "outputs": [],
   "source": [
    "import os\n",
    "import numpy as np\n",
    "import pandas as pd\n",
    "import tensorflow as tf\n",
    "from tensorflow.keras import models, callbacks\n",
    "from tensorflow.keras.layers import InputLayer, Input, Dense, Flatten, Conv2D, MaxPooling2D, Reshape, LSTM, TimeDistributed, Dropout, BatchNormalization\n",
    "from tensorflow.keras.optimizers import Adam\n",
    "import matplotlib.pyplot as plt\n",
    "import seaborn as sns\n",
    "from tensorflow.keras.preprocessing.image import ImageDataGenerator\n",
    "import cv2\n",
    "from tqdm import tqdm\n",
    "\n",
    "tf.config.run_functions_eagerly(True)"
   ]
  },
  {
   "cell_type": "code",
   "execution_count": 24,
   "id": "20a93a65",
   "metadata": {},
   "outputs": [],
   "source": [
    "import os\n",
    "\n",
    "def generate_image_csv(root_dir, output_csv):\n",
    "    # Inizializza le liste per i percorsi delle immagini e le classi\n",
    "    image_paths = []\n",
    "    image_classes = []\n",
    "\n",
    "    # Itera su ogni directory nel directory radice\n",
    "    for dir_name in os.listdir(root_dir):\n",
    "        # Il nome della directory è la classe dell'immagine\n",
    "        image_class = dir_name\n",
    "\n",
    "        # Il percorso della directory\n",
    "        dir_path = os.path.join(root_dir, dir_name)\n",
    "\n",
    "        # Se il percorso non è una directory, salta al prossimo\n",
    "        if not os.path.isdir(dir_path):\n",
    "            continue\n",
    "\n",
    "        # Itera su ogni file nella directory\n",
    "        for file_name in os.listdir(dir_path):\n",
    "            # Il percorso del file\n",
    "            file_path = os.path.join(dir_path, file_name)\n",
    "\n",
    "            # Se il file non è un'immagine, salta al prossimo\n",
    "            if not file_path.lower().endswith(('.png', '.jpg', '.jpeg')):\n",
    "                continue\n",
    "\n",
    "            # Aggiungi il percorso del file e la classe dell'immagine alle liste\n",
    "            image_paths.append(file_path)\n",
    "            image_classes.append(image_class)\n",
    "\n",
    "    # Crea un DataFrame con i percorsi delle immagini e le classi\n",
    "    df = pd.DataFrame({\n",
    "        'image': image_paths,\n",
    "        'label': image_classes\n",
    "    })\n",
    "\n",
    "    # Scrivi il DataFrame in un file CSV\n",
    "    df.to_csv(output_csv, index=False)\n",
    "\n"
   ]
  },
  {
   "cell_type": "code",
   "execution_count": 25,
   "id": "d5702150-365f-4758-a04b-af1de3737dc1",
   "metadata": {},
   "outputs": [],
   "source": [
    "IMAGE_HEIGHT = 128\n",
    "IMAGE_WIDTH = 128\n",
    "IMAGE_SIZE = (IMAGE_HEIGHT, IMAGE_WIDTH)\n",
    "CLASSES = [\"Dementia\", \"NoDementia\"]\n",
    "NUM_CLASSES = len(CLASSES)\n",
    "\n",
    "TRAIN_PATH = \"./Datasets/Train\"\n",
    "# Usa la funzione per generare il CSV\n",
    "generate_image_csv(TRAIN_PATH, './csv/train.csv')\n",
    "\n",
    "TEST_PATH = \"./Datasets/Test\"\n",
    "# Usa la funzione per generare il CSV\n",
    "generate_image_csv(TEST_PATH, './csv/test.csv')"
   ]
  },
  {
   "cell_type": "code",
   "execution_count": 26,
   "id": "3c484c80-d838-472b-a3f2-9e3308977cc7",
   "metadata": {},
   "outputs": [],
   "source": [
    "# Define the CNN model\n",
    "def create_cnn():\n",
    "    model = models.Sequential()\n",
    "\n",
    "    # 0. Input layer\n",
    "    model.add(InputLayer(input_shape=(1, 128, 128, 3)))\n",
    "    \n",
    "    # 1. Convolutional layer with L2 regularization and batch normalization\n",
    "    layer = Conv2D(64, (3, 3), activation='relu')\n",
    "    model.add(TimeDistributed(layer))\n",
    "    \n",
    "    # 2. MaxPooling layer\n",
    "    layer = MaxPooling2D((2, 2))\n",
    "    model.add(TimeDistributed(layer))\n",
    "    \n",
    "    # 3. Convolutional layer with L2 regularization and batch normalization\n",
    "    layer = Conv2D(32, (3, 3), activation='relu')\n",
    "    model.add(TimeDistributed(layer))\n",
    "    \n",
    "    # 4. MaxPooling layer\n",
    "    layer = MaxPooling2D((2, 2))\n",
    "    model.add(TimeDistributed(layer))\n",
    "    \n",
    "    # 5. Flattening layer\n",
    "    layer = Flatten()\n",
    "    model.add(TimeDistributed(layer))\n",
    "\n",
    "    # 6. LSTM layer with dropout\n",
    "    model.add(LSTM(100))\n",
    "    \n",
    "    # 7. Dense layer\n",
    "    model.add(Dense(2, activation='sigmoid'))\n",
    "\n",
    "    return model"
   ]
  },
  {
   "cell_type": "code",
   "execution_count": 27,
   "id": "bb27de3f-205f-48e4-8d85-141cf76fb672",
   "metadata": {},
   "outputs": [
    {
     "name": "stderr",
     "output_type": "stream",
     "text": [
      "c:\\Users\\nikba\\AppData\\Local\\Programs\\Python\\Python310\\lib\\site-packages\\keras\\src\\layers\\core\\input_layer.py:25: UserWarning: Argument `input_shape` is deprecated. Use `shape` instead.\n",
      "  warnings.warn(\n"
     ]
    },
    {
     "data": {
      "text/html": [
       "<pre style=\"white-space:pre;overflow-x:auto;line-height:normal;font-family:Menlo,'DejaVu Sans Mono',consolas,'Courier New',monospace\"><span style=\"font-weight: bold\">Model: \"sequential_2\"</span>\n",
       "</pre>\n"
      ],
      "text/plain": [
       "\u001b[1mModel: \"sequential_2\"\u001b[0m\n"
      ]
     },
     "metadata": {},
     "output_type": "display_data"
    },
    {
     "data": {
      "text/html": [
       "<pre style=\"white-space:pre;overflow-x:auto;line-height:normal;font-family:Menlo,'DejaVu Sans Mono',consolas,'Courier New',monospace\">┏━━━━━━━━━━━━━━━━━━━━━━━━━━━━━━━━━┳━━━━━━━━━━━━━━━━━━━━━━━━┳━━━━━━━━━━━━━━━┓\n",
       "┃<span style=\"font-weight: bold\"> Layer (type)                    </span>┃<span style=\"font-weight: bold\"> Output Shape           </span>┃<span style=\"font-weight: bold\">       Param # </span>┃\n",
       "┡━━━━━━━━━━━━━━━━━━━━━━━━━━━━━━━━━╇━━━━━━━━━━━━━━━━━━━━━━━━╇━━━━━━━━━━━━━━━┩\n",
       "│ time_distributed_10             │ (<span style=\"color: #00d7ff; text-decoration-color: #00d7ff\">None</span>, <span style=\"color: #00af00; text-decoration-color: #00af00\">1</span>, <span style=\"color: #00af00; text-decoration-color: #00af00\">126</span>, <span style=\"color: #00af00; text-decoration-color: #00af00\">126</span>,    │         <span style=\"color: #00af00; text-decoration-color: #00af00\">1,792</span> │\n",
       "│ (<span style=\"color: #0087ff; text-decoration-color: #0087ff\">TimeDistributed</span>)               │ <span style=\"color: #00af00; text-decoration-color: #00af00\">64</span>)                    │               │\n",
       "├─────────────────────────────────┼────────────────────────┼───────────────┤\n",
       "│ time_distributed_11             │ (<span style=\"color: #00d7ff; text-decoration-color: #00d7ff\">None</span>, <span style=\"color: #00af00; text-decoration-color: #00af00\">1</span>, <span style=\"color: #00af00; text-decoration-color: #00af00\">63</span>, <span style=\"color: #00af00; text-decoration-color: #00af00\">63</span>, <span style=\"color: #00af00; text-decoration-color: #00af00\">64</span>)  │             <span style=\"color: #00af00; text-decoration-color: #00af00\">0</span> │\n",
       "│ (<span style=\"color: #0087ff; text-decoration-color: #0087ff\">TimeDistributed</span>)               │                        │               │\n",
       "├─────────────────────────────────┼────────────────────────┼───────────────┤\n",
       "│ time_distributed_12             │ (<span style=\"color: #00d7ff; text-decoration-color: #00d7ff\">None</span>, <span style=\"color: #00af00; text-decoration-color: #00af00\">1</span>, <span style=\"color: #00af00; text-decoration-color: #00af00\">61</span>, <span style=\"color: #00af00; text-decoration-color: #00af00\">61</span>, <span style=\"color: #00af00; text-decoration-color: #00af00\">32</span>)  │        <span style=\"color: #00af00; text-decoration-color: #00af00\">18,464</span> │\n",
       "│ (<span style=\"color: #0087ff; text-decoration-color: #0087ff\">TimeDistributed</span>)               │                        │               │\n",
       "├─────────────────────────────────┼────────────────────────┼───────────────┤\n",
       "│ time_distributed_13             │ (<span style=\"color: #00d7ff; text-decoration-color: #00d7ff\">None</span>, <span style=\"color: #00af00; text-decoration-color: #00af00\">1</span>, <span style=\"color: #00af00; text-decoration-color: #00af00\">30</span>, <span style=\"color: #00af00; text-decoration-color: #00af00\">30</span>, <span style=\"color: #00af00; text-decoration-color: #00af00\">32</span>)  │             <span style=\"color: #00af00; text-decoration-color: #00af00\">0</span> │\n",
       "│ (<span style=\"color: #0087ff; text-decoration-color: #0087ff\">TimeDistributed</span>)               │                        │               │\n",
       "├─────────────────────────────────┼────────────────────────┼───────────────┤\n",
       "│ time_distributed_14             │ (<span style=\"color: #00d7ff; text-decoration-color: #00d7ff\">None</span>, <span style=\"color: #00af00; text-decoration-color: #00af00\">1</span>, <span style=\"color: #00af00; text-decoration-color: #00af00\">28800</span>)       │             <span style=\"color: #00af00; text-decoration-color: #00af00\">0</span> │\n",
       "│ (<span style=\"color: #0087ff; text-decoration-color: #0087ff\">TimeDistributed</span>)               │                        │               │\n",
       "├─────────────────────────────────┼────────────────────────┼───────────────┤\n",
       "│ lstm_2 (<span style=\"color: #0087ff; text-decoration-color: #0087ff\">LSTM</span>)                   │ (<span style=\"color: #00d7ff; text-decoration-color: #00d7ff\">None</span>, <span style=\"color: #00af00; text-decoration-color: #00af00\">100</span>)            │    <span style=\"color: #00af00; text-decoration-color: #00af00\">11,560,400</span> │\n",
       "├─────────────────────────────────┼────────────────────────┼───────────────┤\n",
       "│ dense_2 (<span style=\"color: #0087ff; text-decoration-color: #0087ff\">Dense</span>)                 │ (<span style=\"color: #00d7ff; text-decoration-color: #00d7ff\">None</span>, <span style=\"color: #00af00; text-decoration-color: #00af00\">2</span>)              │           <span style=\"color: #00af00; text-decoration-color: #00af00\">202</span> │\n",
       "└─────────────────────────────────┴────────────────────────┴───────────────┘\n",
       "</pre>\n"
      ],
      "text/plain": [
       "┏━━━━━━━━━━━━━━━━━━━━━━━━━━━━━━━━━┳━━━━━━━━━━━━━━━━━━━━━━━━┳━━━━━━━━━━━━━━━┓\n",
       "┃\u001b[1m \u001b[0m\u001b[1mLayer (type)                   \u001b[0m\u001b[1m \u001b[0m┃\u001b[1m \u001b[0m\u001b[1mOutput Shape          \u001b[0m\u001b[1m \u001b[0m┃\u001b[1m \u001b[0m\u001b[1m      Param #\u001b[0m\u001b[1m \u001b[0m┃\n",
       "┡━━━━━━━━━━━━━━━━━━━━━━━━━━━━━━━━━╇━━━━━━━━━━━━━━━━━━━━━━━━╇━━━━━━━━━━━━━━━┩\n",
       "│ time_distributed_10             │ (\u001b[38;5;45mNone\u001b[0m, \u001b[38;5;34m1\u001b[0m, \u001b[38;5;34m126\u001b[0m, \u001b[38;5;34m126\u001b[0m,    │         \u001b[38;5;34m1,792\u001b[0m │\n",
       "│ (\u001b[38;5;33mTimeDistributed\u001b[0m)               │ \u001b[38;5;34m64\u001b[0m)                    │               │\n",
       "├─────────────────────────────────┼────────────────────────┼───────────────┤\n",
       "│ time_distributed_11             │ (\u001b[38;5;45mNone\u001b[0m, \u001b[38;5;34m1\u001b[0m, \u001b[38;5;34m63\u001b[0m, \u001b[38;5;34m63\u001b[0m, \u001b[38;5;34m64\u001b[0m)  │             \u001b[38;5;34m0\u001b[0m │\n",
       "│ (\u001b[38;5;33mTimeDistributed\u001b[0m)               │                        │               │\n",
       "├─────────────────────────────────┼────────────────────────┼───────────────┤\n",
       "│ time_distributed_12             │ (\u001b[38;5;45mNone\u001b[0m, \u001b[38;5;34m1\u001b[0m, \u001b[38;5;34m61\u001b[0m, \u001b[38;5;34m61\u001b[0m, \u001b[38;5;34m32\u001b[0m)  │        \u001b[38;5;34m18,464\u001b[0m │\n",
       "│ (\u001b[38;5;33mTimeDistributed\u001b[0m)               │                        │               │\n",
       "├─────────────────────────────────┼────────────────────────┼───────────────┤\n",
       "│ time_distributed_13             │ (\u001b[38;5;45mNone\u001b[0m, \u001b[38;5;34m1\u001b[0m, \u001b[38;5;34m30\u001b[0m, \u001b[38;5;34m30\u001b[0m, \u001b[38;5;34m32\u001b[0m)  │             \u001b[38;5;34m0\u001b[0m │\n",
       "│ (\u001b[38;5;33mTimeDistributed\u001b[0m)               │                        │               │\n",
       "├─────────────────────────────────┼────────────────────────┼───────────────┤\n",
       "│ time_distributed_14             │ (\u001b[38;5;45mNone\u001b[0m, \u001b[38;5;34m1\u001b[0m, \u001b[38;5;34m28800\u001b[0m)       │             \u001b[38;5;34m0\u001b[0m │\n",
       "│ (\u001b[38;5;33mTimeDistributed\u001b[0m)               │                        │               │\n",
       "├─────────────────────────────────┼────────────────────────┼───────────────┤\n",
       "│ lstm_2 (\u001b[38;5;33mLSTM\u001b[0m)                   │ (\u001b[38;5;45mNone\u001b[0m, \u001b[38;5;34m100\u001b[0m)            │    \u001b[38;5;34m11,560,400\u001b[0m │\n",
       "├─────────────────────────────────┼────────────────────────┼───────────────┤\n",
       "│ dense_2 (\u001b[38;5;33mDense\u001b[0m)                 │ (\u001b[38;5;45mNone\u001b[0m, \u001b[38;5;34m2\u001b[0m)              │           \u001b[38;5;34m202\u001b[0m │\n",
       "└─────────────────────────────────┴────────────────────────┴───────────────┘\n"
      ]
     },
     "metadata": {},
     "output_type": "display_data"
    },
    {
     "data": {
      "text/html": [
       "<pre style=\"white-space:pre;overflow-x:auto;line-height:normal;font-family:Menlo,'DejaVu Sans Mono',consolas,'Courier New',monospace\"><span style=\"font-weight: bold\"> Total params: </span><span style=\"color: #00af00; text-decoration-color: #00af00\">11,580,858</span> (44.18 MB)\n",
       "</pre>\n"
      ],
      "text/plain": [
       "\u001b[1m Total params: \u001b[0m\u001b[38;5;34m11,580,858\u001b[0m (44.18 MB)\n"
      ]
     },
     "metadata": {},
     "output_type": "display_data"
    },
    {
     "data": {
      "text/html": [
       "<pre style=\"white-space:pre;overflow-x:auto;line-height:normal;font-family:Menlo,'DejaVu Sans Mono',consolas,'Courier New',monospace\"><span style=\"font-weight: bold\"> Trainable params: </span><span style=\"color: #00af00; text-decoration-color: #00af00\">11,580,858</span> (44.18 MB)\n",
       "</pre>\n"
      ],
      "text/plain": [
       "\u001b[1m Trainable params: \u001b[0m\u001b[38;5;34m11,580,858\u001b[0m (44.18 MB)\n"
      ]
     },
     "metadata": {},
     "output_type": "display_data"
    },
    {
     "data": {
      "text/html": [
       "<pre style=\"white-space:pre;overflow-x:auto;line-height:normal;font-family:Menlo,'DejaVu Sans Mono',consolas,'Courier New',monospace\"><span style=\"font-weight: bold\"> Non-trainable params: </span><span style=\"color: #00af00; text-decoration-color: #00af00\">0</span> (0.00 B)\n",
       "</pre>\n"
      ],
      "text/plain": [
       "\u001b[1m Non-trainable params: \u001b[0m\u001b[38;5;34m0\u001b[0m (0.00 B)\n"
      ]
     },
     "metadata": {},
     "output_type": "display_data"
    }
   ],
   "source": [
    "# Create the CNN model\n",
    "model = create_cnn()\n",
    "\n",
    "model.compile(optimizer=Adam(learning_rate=0.0001), loss='binary_crossentropy', metrics=['accuracy', tf.keras.metrics.Precision(), tf.keras.metrics.Recall()])\n",
    "\n",
    "model.summary()"
   ]
  },
  {
   "cell_type": "code",
   "execution_count": 28,
   "id": "9b1abf37-fbdf-4844-99ac-10895ce39972",
   "metadata": {},
   "outputs": [],
   "source": [
    "train_df = pd.read_csv('./csv/train.csv')\n",
    "test_df = pd.read_csv('./csv/test.csv')"
   ]
  },
  {
   "cell_type": "code",
   "execution_count": 29,
   "id": "a536fb6d-e1fe-4ef6-a809-7b0b5619cd77",
   "metadata": {},
   "outputs": [
    {
     "data": {
      "image/png": "[encoded data removed]",
      "text/plain": [
       "<Figure size 300x300 with 1 Axes>"
      ]
     },
     "metadata": {},
     "output_type": "display_data"
    },
    {
     "data": {
      "image/png": "[encoded data removed]",
      "text/plain": [
       "<Figure size 300x300 with 1 Axes>"
      ]
     },
     "metadata": {},
     "output_type": "display_data"
    }
   ],
   "source": [
    "plt.figure(figsize=(3, 3))\n",
    "class_counts = train_df['label'].value_counts()\n",
    "tr_labels = class_counts.index\n",
    "tr_sizes = class_counts.values\n",
    "plt.pie(tr_sizes, labels=tr_labels, autopct='%1.1f%%', startangle=90, colors=sns.color_palette('Set1'))\n",
    "plt.title('Distribution of Classes in train', fontsize=20)\n",
    "plt.show()\n",
    "\n",
    "plt.figure(figsize=(3, 3))\n",
    "class_counts = test_df['label'].value_counts()\n",
    "ts_labels = class_counts.index\n",
    "ts_sizes = class_counts.values\n",
    "plt.pie(ts_sizes, labels=ts_labels, autopct='%1.1f%%', startangle=90, colors=sns.color_palette('Set1'))\n",
    "plt.title('Distribution of Classes in test', fontsize=20)\n",
    "plt.show()"
   ]
  },
  {
   "cell_type": "code",
   "execution_count": 30,
   "id": "09ff808c-d468-4a40-98ff-bc4191d31b4a",
   "metadata": {},
   "outputs": [
    {
     "name": "stdout",
     "output_type": "stream",
     "text": [
      "Label: COVID, Size: 1000\n",
      "Label: non-COVID, Size: 999\n"
     ]
    }
   ],
   "source": [
    "for label, size in zip(tr_labels, tr_sizes):\n",
    "    print(f\"Label: {label}, Size: {size}\")"
   ]
  },
  {
   "cell_type": "code",
   "execution_count": 31,
   "id": "c68a089b-4ae3-4172-b6ea-ad0c2d1d57da",
   "metadata": {},
   "outputs": [
    {
     "name": "stdout",
     "output_type": "stream",
     "text": [
      "Label: COVID, Size: 252\n",
      "Label: non-COVID, Size: 230\n"
     ]
    }
   ],
   "source": [
    "for label, size in zip(ts_labels, ts_sizes):\n",
    "    print(f\"Label: {label}, Size: {size}\")"
   ]
  },
  {
   "cell_type": "code",
   "execution_count": 32,
   "id": "d7e30211-f371-43fe-809f-3143b8f3a900",
   "metadata": {},
   "outputs": [],
   "source": [
    "work_dr = ImageDataGenerator(rescale=1./255)"
   ]
  },
  {
   "cell_type": "code",
   "execution_count": 34,
   "id": "1071412d-41e5-436f-8a4c-5f17de7d6802",
   "metadata": {},
   "outputs": [
    {
     "name": "stdout",
     "output_type": "stream",
     "text": [
      "Found 1999 validated image filenames belonging to 2 classes.\n"
     ]
    }
   ],
   "source": [
    "\n",
    "# enhancing model generalization\n",
    "train_samples_num = len(train_df)\n",
    "train_data_gen = work_dr.flow_from_dataframe(train_df,x_col='image',y_col='label', target_size=IMAGE_SIZE, batch_size=train_samples_num, shuffle=True, class_mode=\"categorical\")\n",
    "X_train, y_train = train_data_gen.__next__()"
   ]
  },
  {
   "cell_type": "code",
   "execution_count": 36,
   "id": "e8908b7b-9ad2-4379-8bf6-b0fd10a59cc8",
   "metadata": {},
   "outputs": [
    {
     "name": "stdout",
     "output_type": "stream",
     "text": [
      "Found 482 validated image filenames belonging to 2 classes.\n"
     ]
    }
   ],
   "source": [
    "work_dr = ImageDataGenerator(\n",
    "    rescale=1./255\n",
    ")\n",
    "# enhancing model generalization\n",
    "test_samples_num = len(test_df)\n",
    "test_data_gen = work_dr.flow_from_dataframe(test_df,x_col='image',y_col='label', target_size=IMAGE_SIZE, batch_size=test_samples_num, shuffle=True, class_mode=\"categorical\")\n",
    "X_test, y_test = test_data_gen.__next__()"
   ]
  },
  {
   "cell_type": "code",
   "execution_count": 13,
   "id": "fb62cb88-f5d8-4947-97f8-6376d275a94e",
   "metadata": {},
   "outputs": [],
   "source": [
    "# train_data = None\n",
    "# train_labels = None\n",
    "# steps = len(train_data_gen)\n",
    "# for i, (data, labels) in enumerate(train_data_gen):\n",
    "#     print(i)\n",
    "#     if i == 0:\n",
    "#         train_data = data\n",
    "#         train_labels = labels\n",
    "#     elif i < steps:\n",
    "#         train_data = np.concatenate((train_data, data), axis=0)\n",
    "#         train_labels = np.concatenate((train_labels, labels), axis=0)\n",
    "#     else:\n",
    "#         break\n",
    "\n",
    "# print(train_data.shape, train_labels.shape)"
   ]
  },
  {
   "cell_type": "code",
   "execution_count": 14,
   "id": "1ff15869-52b5-48c9-8ed6-d5ab91c2bbb5",
   "metadata": {},
   "outputs": [],
   "source": [
    "\n"
   ]
  },
  {
   "cell_type": "code",
   "execution_count": 37,
   "id": "d4d0331c-8235-4e38-9b5e-b5f12051fab4",
   "metadata": {},
   "outputs": [
    {
     "name": "stdout",
     "output_type": "stream",
     "text": [
      "X_train shape is  (1999, 1, 128, 128, 3)\n",
      "X_test shape is  (482, 1, 128, 128, 3)\n",
      "y_train shape is  (1999, 2)\n",
      "y_test shape is  (482, 2)\n"
     ]
    }
   ],
   "source": [
    "# X_train, X_test, y_train, y_test = train_test_split(train_data,train_labels, test_size=0.2, random_state=42,shuffle=True,stratify=train_labels)\n",
    "if X_train.ndim == 4:\n",
    "    X_train = np.expand_dims(X_train, axis=1)\n",
    "if X_test.ndim == 4:\n",
    "    X_test = np.expand_dims(X_test, axis=1)\n",
    "    \n",
    "print('X_train shape is ' , X_train.shape)\n",
    "print('X_test shape is ' , X_test.shape)\n",
    "print('y_train shape is ' , y_train.shape)\n",
    "print('y_test shape is ' , y_test.shape)\n"
   ]
  },
  {
   "cell_type": "code",
   "execution_count": 39,
   "id": "3e65f111-7dce-4514-b735-7b6534c40258",
   "metadata": {},
   "outputs": [
    {
     "name": "stderr",
     "output_type": "stream",
     "text": [
      "c:\\Users\\nikba\\AppData\\Local\\Programs\\Python\\Python310\\lib\\site-packages\\tensorflow\\python\\data\\ops\\structured_function.py:258: UserWarning: Even though the `tf.config.experimental_run_functions_eagerly` option is set, this option does not apply to tf.data functions. To force eager execution of tf.data functions, please use `tf.data.experimental.enable_debug_mode()`.\n",
      "  warnings.warn(\n"
     ]
    },
    {
     "name": "stdout",
     "output_type": "stream",
     "text": [
      "Epoch 1/25\n",
      "\u001b[1m100/100\u001b[0m \u001b[32m━━━━━━━━━━━━━━━━━━━━\u001b[0m\u001b[37m\u001b[0m \u001b[1m70s\u001b[0m 700ms/step - accuracy: 0.5724 - loss: 0.6693 - precision_2: 0.5630 - recall_2: 0.5913 - val_accuracy: 0.7475 - val_loss: 0.5260 - val_precision_2: 0.7056 - val_recall_2: 0.8150\n",
      "Epoch 2/25\n",
      "\u001b[1m100/100\u001b[0m \u001b[32m━━━━━━━━━━━━━━━━━━━━\u001b[0m\u001b[37m\u001b[0m \u001b[1m71s\u001b[0m 709ms/step - accuracy: 0.8317 - loss: 0.4063 - precision_2: 0.8264 - recall_2: 0.8325 - val_accuracy: 0.8250 - val_loss: 0.4132 - val_precision_2: 0.8274 - val_recall_2: 0.8150\n",
      "Epoch 3/25\n",
      "\u001b[1m100/100\u001b[0m \u001b[32m━━━━━━━━━━━━━━━━━━━━\u001b[0m\u001b[37m\u001b[0m \u001b[1m73s\u001b[0m 729ms/step - accuracy: 0.8614 - loss: 0.3131 - precision_2: 0.8635 - recall_2: 0.8644 - val_accuracy: 0.8025 - val_loss: 0.4351 - val_precision_2: 0.7956 - val_recall_2: 0.8075\n",
      "Epoch 4/25\n",
      "\u001b[1m100/100\u001b[0m \u001b[32m━━━━━━━━━━━━━━━━━━━━\u001b[0m\u001b[37m\u001b[0m \u001b[1m73s\u001b[0m 730ms/step - accuracy: 0.8839 - loss: 0.3030 - precision_2: 0.8874 - recall_2: 0.8843 - val_accuracy: 0.7825 - val_loss: 0.4419 - val_precision_2: 0.7854 - val_recall_2: 0.7775\n",
      "Epoch 5/25\n",
      "\u001b[1m100/100\u001b[0m \u001b[32m━━━━━━━━━━━━━━━━━━━━\u001b[0m\u001b[37m\u001b[0m \u001b[1m73s\u001b[0m 727ms/step - accuracy: 0.9135 - loss: 0.2385 - precision_2: 0.9164 - recall_2: 0.9116 - val_accuracy: 0.8800 - val_loss: 0.2947 - val_precision_2: 0.8716 - val_recall_2: 0.8825\n",
      "Epoch 6/25\n",
      "\u001b[1m100/100\u001b[0m \u001b[32m━━━━━━━━━━━━━━━━━━━━\u001b[0m\u001b[37m\u001b[0m \u001b[1m72s\u001b[0m 723ms/step - accuracy: 0.9322 - loss: 0.1888 - precision_2: 0.9325 - recall_2: 0.9359 - val_accuracy: 0.8675 - val_loss: 0.3067 - val_precision_2: 0.8737 - val_recall_2: 0.8650\n",
      "Epoch 7/25\n",
      "\u001b[1m100/100\u001b[0m \u001b[32m━━━━━━━━━━━━━━━━━━━━\u001b[0m\u001b[37m\u001b[0m \u001b[1m77s\u001b[0m 772ms/step - accuracy: 0.9441 - loss: 0.1656 - precision_2: 0.9431 - recall_2: 0.9408 - val_accuracy: 0.8825 - val_loss: 0.2885 - val_precision_2: 0.8765 - val_recall_2: 0.8875\n",
      "Epoch 8/25\n",
      "\u001b[1m100/100\u001b[0m \u001b[32m━━━━━━━━━━━━━━━━━━━━\u001b[0m\u001b[37m\u001b[0m \u001b[1m83s\u001b[0m 831ms/step - accuracy: 0.9627 - loss: 0.1183 - precision_2: 0.9647 - recall_2: 0.9621 - val_accuracy: 0.8575 - val_loss: 0.3181 - val_precision_2: 0.8589 - val_recall_2: 0.8525\n",
      "Epoch 9/25\n",
      "\u001b[1m100/100\u001b[0m \u001b[32m━━━━━━━━━━━━━━━━━━━━\u001b[0m\u001b[37m\u001b[0m \u001b[1m71s\u001b[0m 711ms/step - accuracy: 0.9695 - loss: 0.1063 - precision_2: 0.9703 - recall_2: 0.9687 - val_accuracy: 0.8875 - val_loss: 0.2968 - val_precision_2: 0.8875 - val_recall_2: 0.8875\n",
      "Epoch 10/25\n",
      "\u001b[1m100/100\u001b[0m \u001b[32m━━━━━━━━━━━━━━━━━━━━\u001b[0m\u001b[37m\u001b[0m \u001b[1m75s\u001b[0m 745ms/step - accuracy: 0.9754 - loss: 0.0872 - precision_2: 0.9762 - recall_2: 0.9760 - val_accuracy: 0.8750 - val_loss: 0.2951 - val_precision_2: 0.8772 - val_recall_2: 0.8750\n",
      "Epoch 11/25\n",
      "\u001b[1m100/100\u001b[0m \u001b[32m━━━━━━━━━━━━━━━━━━━━\u001b[0m\u001b[37m\u001b[0m \u001b[1m67s\u001b[0m 663ms/step - accuracy: 0.9922 - loss: 0.0616 - precision_2: 0.9922 - recall_2: 0.9904 - val_accuracy: 0.8650 - val_loss: 0.3169 - val_precision_2: 0.8657 - val_recall_2: 0.8700\n",
      "Epoch 12/25\n",
      "\u001b[1m100/100\u001b[0m \u001b[32m━━━━━━━━━━━━━━━━━━━━\u001b[0m\u001b[37m\u001b[0m \u001b[1m71s\u001b[0m 710ms/step - accuracy: 0.9809 - loss: 0.0631 - precision_2: 0.9809 - recall_2: 0.9820 - val_accuracy: 0.8825 - val_loss: 0.2842 - val_precision_2: 0.8828 - val_recall_2: 0.8850\n",
      "Epoch 13/25\n",
      "\u001b[1m100/100\u001b[0m \u001b[32m━━━━━━━━━━━━━━━━━━━━\u001b[0m\u001b[37m\u001b[0m \u001b[1m84s\u001b[0m 837ms/step - accuracy: 0.9949 - loss: 0.0364 - precision_2: 0.9949 - recall_2: 0.9957 - val_accuracy: 0.8850 - val_loss: 0.3221 - val_precision_2: 0.8850 - val_recall_2: 0.8850\n",
      "Epoch 14/25\n",
      "\u001b[1m100/100\u001b[0m \u001b[32m━━━━━━━━━━━━━━━━━━━━\u001b[0m\u001b[37m\u001b[0m \u001b[1m70s\u001b[0m 703ms/step - accuracy: 0.9963 - loss: 0.0267 - precision_2: 0.9963 - recall_2: 0.9963 - val_accuracy: 0.8575 - val_loss: 0.4305 - val_precision_2: 0.8554 - val_recall_2: 0.8575\n",
      "Epoch 15/25\n",
      "\u001b[1m100/100\u001b[0m \u001b[32m━━━━━━━━━━━━━━━━━━━━\u001b[0m\u001b[37m\u001b[0m \u001b[1m72s\u001b[0m 715ms/step - accuracy: 0.9923 - loss: 0.0365 - precision_2: 0.9920 - recall_2: 0.9919 - val_accuracy: 0.8900 - val_loss: 0.3206 - val_precision_2: 0.8875 - val_recall_2: 0.8875\n",
      "Epoch 16/25\n",
      "\u001b[1m100/100\u001b[0m \u001b[32m━━━━━━━━━━━━━━━━━━━━\u001b[0m\u001b[37m\u001b[0m \u001b[1m69s\u001b[0m 693ms/step - accuracy: 1.0000 - loss: 0.0182 - precision_2: 1.0000 - recall_2: 1.0000 - val_accuracy: 0.8725 - val_loss: 0.3604 - val_precision_2: 0.8706 - val_recall_2: 0.8750\n",
      "Epoch 17/25\n",
      "\u001b[1m100/100\u001b[0m \u001b[32m━━━━━━━━━━━━━━━━━━━━\u001b[0m\u001b[37m\u001b[0m \u001b[1m70s\u001b[0m 703ms/step - accuracy: 1.0000 - loss: 0.0121 - precision_2: 1.0000 - recall_2: 1.0000 - val_accuracy: 0.8875 - val_loss: 0.3553 - val_precision_2: 0.8875 - val_recall_2: 0.8875\n",
      "Epoch 18/25\n",
      "\u001b[1m100/100\u001b[0m \u001b[32m━━━━━━━━━━━━━━━━━━━━\u001b[0m\u001b[37m\u001b[0m \u001b[1m71s\u001b[0m 708ms/step - accuracy: 1.0000 - loss: 0.0097 - precision_2: 1.0000 - recall_2: 1.0000 - val_accuracy: 0.8725 - val_loss: 0.3856 - val_precision_2: 0.8728 - val_recall_2: 0.8750\n",
      "Epoch 19/25\n",
      "\u001b[1m100/100\u001b[0m \u001b[32m━━━━━━━━━━━━━━━━━━━━\u001b[0m\u001b[37m\u001b[0m \u001b[1m71s\u001b[0m 710ms/step - accuracy: 1.0000 - loss: 0.0087 - precision_2: 1.0000 - recall_2: 1.0000 - val_accuracy: 0.8925 - val_loss: 0.3798 - val_precision_2: 0.8920 - val_recall_2: 0.8875\n"
     ]
    }
   ],
   "source": [
    "# Define callbacks\n",
    "callbacks_list = [\n",
    "   callbacks.EarlyStopping(monitor='accuracy', patience=2),  # Stop training if accuracy doesn't improve after 3 epochs\n",
    "    callbacks.ModelCheckpoint(filepath='./Models/CNN-LSTM-MIGLIORE-binary_crossentropy-val.keras', monitor='loss'),  # Save the best model based on val_accuracy\n",
    "]\n",
    "\n",
    "# Fit the model\n",
    "history = model.fit(X_train, y_train, batch_size=16, epochs=25, callbacks=callbacks_list, validation_split=0.2)"
   ]
  },
  {
   "cell_type": "code",
   "execution_count": 2,
   "id": "82d0b51e-0d98-4d1b-b9f2-97a5cb900dfd",
   "metadata": {},
   "outputs": [
    {
     "ename": "NameError",
     "evalue": "name 'plt' is not defined",
     "output_type": "error",
     "traceback": [
      "\u001b[1;31m---------------------------------------------------------------------------\u001b[0m",
      "\u001b[1;31mNameError\u001b[0m                                 Traceback (most recent call last)",
      "Cell \u001b[1;32mIn[2], line 1\u001b[0m\n\u001b[1;32m----> 1\u001b[0m \u001b[43mplt\u001b[49m\u001b[38;5;241m.\u001b[39mfigure(figsize\u001b[38;5;241m=\u001b[39m(\u001b[38;5;241m12\u001b[39m, \u001b[38;5;241m4\u001b[39m))\n\u001b[0;32m      2\u001b[0m plt\u001b[38;5;241m.\u001b[39msubplot(\u001b[38;5;241m1\u001b[39m, \u001b[38;5;241m2\u001b[39m, \u001b[38;5;241m1\u001b[39m)\n\u001b[0;32m      3\u001b[0m plt\u001b[38;5;241m.\u001b[39mplot(history\u001b[38;5;241m.\u001b[39mhistory[\u001b[38;5;124m'\u001b[39m\u001b[38;5;124mloss\u001b[39m\u001b[38;5;124m'\u001b[39m], label\u001b[38;5;241m=\u001b[39m\u001b[38;5;124m'\u001b[39m\u001b[38;5;124mTrain\u001b[39m\u001b[38;5;124m'\u001b[39m)\n",
      "\u001b[1;31mNameError\u001b[0m: name 'plt' is not defined"
     ]
    }
   ],
   "source": [
    "plt.figure(figsize=(12, 4))\n",
    "plt.subplot(1, 2, 1)\n",
    "plt.plot(history.history['loss'], label='Train')\n",
    "plt.plot(history.history['val_loss'], label='Validation')\n",
    "plt.title('Training and Validation Loss')\n",
    "plt.xlabel('Epochs')\n",
    "plt.ylabel('Loss')\n",
    "plt.legend()\n",
    "\n",
    "plt.subplot(1, 2, 2)\n",
    "plt.plot(history.history['accuracy'], label='Train')\n",
    "plt.plot(history.history['val_accuracy'], label='Validation')\n",
    "plt.title('Training and Validation Accuracy')\n",
    "plt.xlabel('Epochs')\n",
    "plt.ylabel('Accuracy')\n",
    "plt.legend()\n",
    "\n",
    "plt.show()"
   ]
  },
  {
   "cell_type": "code",
   "execution_count": 43,
   "id": "33681708-9137-4b17-90fd-555bdb52c196",
   "metadata": {},
   "outputs": [
    {
     "name": "stdout",
     "output_type": "stream",
     "text": [
      "\u001b[1m31/31\u001b[0m \u001b[32m━━━━━━━━━━━━━━━━━━━━\u001b[0m\u001b[37m\u001b[0m \u001b[1m4s\u001b[0m 116ms/step\n"
     ]
    },
    {
     "data": {
      "image/png": "[encoded data removed]",
      "text/plain": [
       "<Figure size 500x400 with 2 Axes>"
      ]
     },
     "metadata": {},
     "output_type": "display_data"
    },
    {
     "name": "stdout",
     "output_type": "stream",
     "text": [
      "Classification Report:\n",
      "              precision    recall  f1-score   support\n",
      "\n",
      "           0       0.88      0.72      0.79       252\n",
      "           1       0.75      0.90      0.81       230\n",
      "\n",
      "    accuracy                           0.80       482\n",
      "   macro avg       0.81      0.81      0.80       482\n",
      "weighted avg       0.82      0.80      0.80       482\n",
      "\n"
     ]
    }
   ],
   "source": [
    "from sklearn.metrics import confusion_matrix, classification_report\n",
    "import seaborn as sns\n",
    "import numpy as np\n",
    "\n",
    "y_pred = model.predict(X_test, batch_size=16)\n",
    "y_pred_classes = np.argmax(y_pred, axis=1)\n",
    "y_true_classes = np.argmax(y_test, axis=1)\n",
    "\n",
    "# y_pred = model.predict(X_test, batch_size=16)\n",
    "# y_true = y_test.reshape(-1, 1)\n",
    "# y_pred_classes = np.round(y_pred).astype(int)\n",
    "# y_true_classes = y_true\n",
    "\n",
    "cm = confusion_matrix(y_true_classes, y_pred_classes)\n",
    "plt.figure(figsize=(5, 4))\n",
    "sns.heatmap(cm, annot=True, fmt='d', cmap='Blues', xticklabels=['0: COVID', '1: non-COVID'],\n",
    "            yticklabels=['0: COVID', '1: non-COVID'])\n",
    "plt.title('Confusion Matrix')\n",
    "plt.xlabel('Predicted')\n",
    "plt.ylabel('True')\n",
    "plt.show()\n",
    "\n",
    "print(\"Classification Report:\")\n",
    "print(classification_report(y_true_classes, y_pred_classes, zero_division=0.0))"
   ]
  },
  {
   "cell_type": "code",
   "execution_count": 44,
   "id": "dd0f418a-b1a5-496b-91f3-2f6b73d7b71c",
   "metadata": {},
   "outputs": [
    {
     "name": "stderr",
     "output_type": "stream",
     "text": [
      "c:\\Users\\nikba\\AppData\\Local\\Programs\\Python\\Python310\\lib\\site-packages\\tensorflow\\python\\data\\ops\\structured_function.py:258: UserWarning: Even though the `tf.config.experimental_run_functions_eagerly` option is set, this option does not apply to tf.data functions. To force eager execution of tf.data functions, please use `tf.data.experimental.enable_debug_mode()`.\n",
      "  warnings.warn(\n"
     ]
    },
    {
     "name": "stdout",
     "output_type": "stream",
     "text": [
      "\u001b[1m31/31\u001b[0m \u001b[32m━━━━━━━━━━━━━━━━━━━━\u001b[0m\u001b[37m\u001b[0m \u001b[1m4s\u001b[0m 143ms/step - accuracy: 0.8388 - loss: 0.6607 - precision_2: 0.8446 - recall_2: 0.8388\n",
      "Test Loss = 0.7647051215171814\n",
      "Test Accuracy = 0.8049792647361755\n"
     ]
    }
   ],
   "source": [
    "score, acc, p, r = model.evaluate(X_test, y_test, batch_size=16)\n",
    "print('Test Loss =', score)\n",
    "print('Test Accuracy =', acc)"
   ]
  },
  {
   "cell_type": "code",
   "execution_count": 1,
   "id": "9bec6fbd",
   "metadata": {},
   "outputs": [],
   "source": [
    "from tensorflow.keras.models import load_model\n",
    "\n",
    "model = load_model('./Models/CNN-LSTM-MIGLIORE-binary_crossentropy-val.keras')"
   ]
  }
 ],
 "metadata": {
  "kernelspec": {
   "display_name": "Python 3 (ipykernel)",
   "language": "python",
   "name": "python3"
  },
  "language_info": {
   "codemirror_mode": {
    "name": "ipython",
    "version": 3
   },
   "file_extension": ".py",
   "mimetype": "text/x-python",
   "name": "python",
   "nbconvert_exporter": "python",
   "pygments_lexer": "ipython3",
   "version": "3.10.2"
  }
 },
 "nbformat": 4,
 "nbformat_minor": 5
}
